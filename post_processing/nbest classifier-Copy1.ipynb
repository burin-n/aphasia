{
 "cells": [
  {
   "cell_type": "code",
   "execution_count": 1,
   "metadata": {},
   "outputs": [],
   "source": [
    "import os\n",
    "import numpy as np\n",
    "from tabulate import tabulate\n",
    "from tqdm import tqdm\n",
    "# import keras\n",
    "# import keras.backend as K"
   ]
  },
  {
   "cell_type": "markdown",
   "metadata": {},
   "source": [
    "# read data"
   ]
  },
  {
   "cell_type": "code",
   "execution_count": 1,
   "metadata": {},
   "outputs": [],
   "source": [
    "enc_phone = dict()\n",
    "dec_phone = dict()\n",
    "\n",
    "with open('words.txt') as file:\n",
    "    for line in file:\n",
    "        ph, num = line.strip().split(' ')\n",
    "        enc_phone[ph] = num\n",
    "        dec_phone[num] = ph"
   ]
  },
  {
   "cell_type": "code",
   "execution_count": 91,
   "metadata": {},
   "outputs": [],
   "source": [
    "pred = dict()\n",
    "\n",
    "with open('nbest-disabilities-real.txt') as file:\n",
    "    lines = file.readlines()\n",
    "    change = False\n",
    "    name = ''\n",
    "    \n",
    "    for line in lines:\n",
    "        line = line.strip()\n",
    "        if(line != ''):\n",
    "#             if(line[0] in ['F', 'M']):\n",
    "            if(line[0] in ['F', 'M', 'D']):\n",
    "                change = True\n",
    "                name = line      \n",
    "                pred[name] = []\n",
    "            elif(pred[name] == []):                \n",
    "                target = line.split(' ')[1:]\n",
    "                pred[name] = target           "
   ]
  },
  {
   "cell_type": "code",
   "execution_count": 92,
   "metadata": {},
   "outputs": [],
   "source": [
    "label = dict()\n",
    "\n",
    "with open('text-real') as file:\n",
    "    for line in file:\n",
    "        spl = line.strip().split(' ')\n",
    "        label[spl[0]] = []\n",
    "        for ph in spl[1:]:\n",
    "            label[spl[0]].append(ph)"
   ]
  },
  {
   "cell_type": "code",
   "execution_count": 94,
   "metadata": {},
   "outputs": [],
   "source": [
    "dictionary = []\n",
    "with open('dictionary.txt') as file:\n",
    "    for line in file:\n",
    "        dictionary.append(line.strip())"
   ]
  },
  {
   "cell_type": "markdown",
   "metadata": {},
   "source": [
    "# edit-distance"
   ]
  },
  {
   "cell_type": "code",
   "execution_count": 14,
   "metadata": {},
   "outputs": [],
   "source": [
    "#dp edit-distance \n",
    "def distance(a, b, debug=False, weight=True):    \n",
    "    # a is predict\n",
    "    # b is label\n",
    "    \n",
    "    N = len(a)\n",
    "    M = len(b)\n",
    "    \n",
    "    dp = np.zeros((N+1,M+1), dtype=np.int)        \n",
    "    \n",
    "    for i in range(N+1):\n",
    "        dp[i][0] = i\n",
    "        \n",
    "    for j in range(M+1):\n",
    "        dp[0][j] = j\n",
    "    \n",
    "    for i in range(N):\n",
    "        for j in range(M):\n",
    "            best_prev = min(dp[i][j], min(dp[i+1][j], dp[i][j+1]))\n",
    "            if(a[i] == b[j]):\n",
    "                dp[i+1][j+1] = dp[i][j]\n",
    "            elif(not weight):\n",
    "                dp[i+1][j+1] = best_prev + 1\n",
    "            else:                                \n",
    "                #insert\n",
    "                if(dp[i][j+1] == best_prev):                        \n",
    "                    dp[i+1][j+1] = best_prev + measure_weight(a[i], '')                    \n",
    "                #delete\n",
    "                elif(dp[i+1][j] == best_prev):\n",
    "                    dp[i+1][j+1] = best_prev + measure_weight(b[j], '')                    \n",
    "                #substitute \n",
    "                else:                                     \n",
    "                    dp[i+1][j+1] = best_prev + measure_weight(a[i], b[j])\n",
    "                \n",
    "    if(debug):\n",
    "        return dp\n",
    "    else:\n",
    "        return dp[N][M]\n",
    "    \n",
    "    \n",
    "def debug(a = list(\"sunday\"), b = list(\"suundaY\")):\n",
    "    table = distance(a, b, debug=True)\n",
    "    a = list(a)\n",
    "    b = list(b)\n",
    "    tabs = []\n",
    "    for i, row in enumerate(table):        \n",
    "        tabs.append([([''] + a)[i]])\n",
    "        tabs[-1].extend(row)\n",
    "\n",
    "    print(tabulate(tabs, headers=['']+b))\n",
    "    \n",
    "\n",
    "def isVow(x):\n",
    "    return x in ['a','aa', 'i', 'ii', 'v', 'vv', 'u', 'uu', 'e', 'ee',\n",
    "                'x', 'xx', 'o', 'oo', '@', '@@', 'q', 'qq', \n",
    "                'ia', 'iia', 'va', 'vva', 'ua', 'uua']\n",
    "\n",
    "\n",
    "def isFinal(x):\n",
    "    return x[-1] == '^'\n",
    "\n",
    "\n",
    "def isInit(x):\n",
    "    return not isVow(x) and not isFinal(x)\n",
    "\n",
    "\n",
    "def vow_score(x,y):    \n",
    "    inter_vow_weight = 3 # a -> i\n",
    "    partial_inter_vow_weight = 2 # vv -> vva, v -> va\n",
    "    inside_vow_weight = 1 # v -> vv, ua -> uua\n",
    "    \n",
    "    if(len(x) > len(y)):\n",
    "        x, y = y, x\n",
    "\n",
    "    if( x[0]*2 + x[1:] == y ):\n",
    "        return inside_vow_weight\n",
    "    elif(x + 'a' == y):\n",
    "        return partial_inter_vow_weight\n",
    "    else:\n",
    "        return inter_vow_weight\n",
    "#     REF table: https://en.wikipedia.org/wiki/Thai_language#Vowels\n",
    "    \n",
    "    \n",
    "def get_cluster_cost(x , y):\n",
    "    cluster_cost = 0\n",
    "    if(x[-1] in ['r', 'l']):        \n",
    "        if(not y[-1] in ['r', 'l']):\n",
    "            cluster_cost += 0.5        \n",
    "        \n",
    "    elif(x[-1] == 'w' and len(x) > 1):\n",
    "        if(not y[-1] == 'w' and len(y) > 1):\n",
    "            cluster_cost += 1                    \n",
    "\n",
    "    return cluster_cost\n",
    "    \n",
    "\n",
    "def clean_cluster(x):\n",
    "    if(len(x) > 1):\n",
    "        if(x[-1] in ['r', 'l']):\n",
    "            x = x[:-1]\n",
    "        if(x[-1] == 'w'):\n",
    "            x = x[-1]\n",
    "    \n",
    "    return x\n",
    "    \n",
    "    \n",
    "def initc_score(x,y):\n",
    "    #REF table: https://en.wikipedia.org/wiki/Thai_language#Initials\n",
    "    #column: Labial, Alveolar, Palatal, Velar, Gloattal\n",
    "    #row: Nasal, Plosive_voice, Plosive_tenuis, Plotsive_aspirated, Fricative, Approximant, Trill\n",
    "    table = [[] for i in range(7)]\n",
    "    table[0].extend(['m', 'n', '' , 'ng', ''])\n",
    "    table[1].extend(['b', 'd', '' , '', ''])\n",
    "    table[2].extend(['p', 't', 'c', 'k', 'z'])\n",
    "    table[3].extend(['ph', 'th', 'ch', 'kh', ''])\n",
    "    table[4].extend(['f', 's', '', '', 'h'])\n",
    "    table[5].extend(['', 'l', 'j', 'w', ''])\n",
    "    table[6].extend(['', 'r', '', '', ''])\n",
    "    \n",
    "    cluster_cost = get_cluster_cost(x, y)\n",
    "    cluster_cost += get_cluster_cost(y, x)\n",
    "    \n",
    "    x = clean_cluster(x)\n",
    "    y = clean_cluster(y)    \n",
    "    \n",
    "    for i in range(7):\n",
    "        for j in range(5):\n",
    "            if(x == table[i][j]):\n",
    "                xi = i; xj = j;\n",
    "            if(y == table[i][j]):\n",
    "                yi = i; yj = j;\n",
    "    \n",
    "\n",
    "    dist = ((xi-yi)**2 + (xj-yj)**2)**0.5 + cluster_cost\n",
    "    return min(dist, 3)\n",
    "                \n",
    "    \n",
    "def finalc_score(x, y):\n",
    "    #REF table: https://en.wikipedia.org/wiki/Thai_language#Finals\n",
    "    #column: Labial, Alveolar, Palatal, Velar\n",
    "    #row: Nasal, Plosive, Approximant\n",
    "    table = [[] for i in range(3)]\n",
    "    table[0].extend([['m^'], ['n^', 'l^'], [], ['ng^']])\n",
    "    table[1].extend([['p^', 'f^'], ['t^','s^','ch^'], [], ['k^']])\n",
    "    table[2].extend([['w^'], [], ['j^'], []])\n",
    "    \n",
    "    #default as (Glottis)\n",
    "    xi = 1; xj = 4; yi = 1; yj = 4\n",
    "    \n",
    "    for i in range(3):\n",
    "        for j in range(4):\n",
    "            if(x in table[i][j]):\n",
    "                xi = i; xj = j\n",
    "            if(y in table[i][j]):\n",
    "                yi = i; yj = j\n",
    "        \n",
    "    return min(((xi-yi)**2 + (xj-yj)**2)**0.5, 3)\n",
    "    \n",
    "\n",
    "def cross_type_score(x,y):\n",
    "    return 4\n",
    "\n",
    "\n",
    "def ins_del_score(x):\n",
    "    if(isVow(x)):\n",
    "        return 2.5\n",
    "    else:\n",
    "        return 1.5\n",
    "\n",
    "    \n",
    "def measure_weight(x, y):    \n",
    "    \n",
    "    if(x == y): return 0\n",
    "    elif(y == ''): return ins_del_score(x)\n",
    "    \n",
    "    try:\n",
    "        x = dec_phone[x]\n",
    "        y = dec_phone[y]\n",
    "    except:\n",
    "        pass\n",
    "        \n",
    "    if(isVow(x) and isVow(y)):\n",
    "        return vow_score(x,y)\n",
    "    elif(isFinal(x) and isFinal(y)):\n",
    "        return finalc_score(x,y)\n",
    "    elif(isInit(x) and isInit(y)):\n",
    "        return initc_score(x,y)\n",
    "    else:\n",
    "        return cross_type_score(x,y)"
   ]
  },
  {
   "cell_type": "code",
   "execution_count": 1,
   "metadata": {},
   "outputs": [
    {
     "ename": "NameError",
     "evalue": "name 'dictionary' is not defined",
     "output_type": "error",
     "traceback": [
      "\u001b[0;31m---------------------------------------------------------------------------\u001b[0m",
      "\u001b[0;31mNameError\u001b[0m                                 Traceback (most recent call last)",
      "\u001b[0;32m<ipython-input-1-231ec79ba914>\u001b[0m in \u001b[0;36m<module>\u001b[0;34m()\u001b[0m\n\u001b[0;32m----> 1\u001b[0;31m \u001b[0;32mdef\u001b[0m \u001b[0mfind_closest\u001b[0m\u001b[0;34m(\u001b[0m\u001b[0mx\u001b[0m\u001b[0;34m,\u001b[0m \u001b[0mweight\u001b[0m\u001b[0;34m=\u001b[0m\u001b[0;32mTrue\u001b[0m\u001b[0;34m,\u001b[0m \u001b[0mdictionary\u001b[0m\u001b[0;34m=\u001b[0m\u001b[0mdictionary\u001b[0m\u001b[0;34m)\u001b[0m\u001b[0;34m:\u001b[0m\u001b[0;34m\u001b[0m\u001b[0m\n\u001b[0m\u001b[1;32m      2\u001b[0m     \u001b[0mpossible\u001b[0m \u001b[0;34m=\u001b[0m \u001b[0mset\u001b[0m\u001b[0;34m(\u001b[0m\u001b[0;34m)\u001b[0m\u001b[0;34m\u001b[0m\u001b[0m\n\u001b[1;32m      3\u001b[0m     \u001b[0mmin_dist\u001b[0m \u001b[0;34m=\u001b[0m \u001b[0;36m1e9\u001b[0m\u001b[0;34m\u001b[0m\u001b[0m\n\u001b[1;32m      4\u001b[0m     \u001b[0;32mfor\u001b[0m \u001b[0mval\u001b[0m \u001b[0;32min\u001b[0m \u001b[0mdictionary\u001b[0m\u001b[0;34m:\u001b[0m\u001b[0;34m\u001b[0m\u001b[0m\n\u001b[1;32m      5\u001b[0m         \u001b[0mdist\u001b[0m \u001b[0;34m=\u001b[0m \u001b[0mdistance\u001b[0m\u001b[0;34m(\u001b[0m\u001b[0mx\u001b[0m\u001b[0;34m,\u001b[0m \u001b[0mval\u001b[0m\u001b[0;34m.\u001b[0m\u001b[0msplit\u001b[0m\u001b[0;34m(\u001b[0m\u001b[0;34m' '\u001b[0m\u001b[0;34m)\u001b[0m\u001b[0;34m,\u001b[0m \u001b[0mweight\u001b[0m\u001b[0;34m=\u001b[0m\u001b[0mweight\u001b[0m\u001b[0;34m)\u001b[0m\u001b[0;34m\u001b[0m\u001b[0m\n",
      "\u001b[0;31mNameError\u001b[0m: name 'dictionary' is not defined"
     ]
    }
   ],
   "source": [
    "def find_closest(x, weight=True, dictionary=dictionary):\n",
    "    possible = set()\n",
    "    min_dist = 1e9\n",
    "    for val in dictionary:        \n",
    "        dist = distance(x, val.split(' '), weight=weight)\n",
    "        if(dist < min_dist):\n",
    "            min_dist = dist            \n",
    "            possible = set([val])\n",
    "        elif(dist == min_dist):\n",
    "            possible.add(val)\n",
    "    return possible, min_dist"
   ]
  },
  {
   "cell_type": "markdown",
   "metadata": {
    "heading_collapsed": true
   },
   "source": [
    "# test accuracy"
   ]
  },
  {
   "cell_type": "code",
   "execution_count": 250,
   "metadata": {
    "hidden": true
   },
   "outputs": [],
   "source": [
    "keys = list(pred.keys())"
   ]
  },
  {
   "cell_type": "code",
   "execution_count": 251,
   "metadata": {
    "hidden": true,
    "scrolled": true
   },
   "outputs": [
    {
     "name": "stdout",
     "output_type": "stream",
     "text": [
      "d uu t^\n",
      "s u t^\n",
      "D00_017\n",
      "{'s u t^', 'r uu', 'pr oo t^', 'm u ng^'} 4\n"
     ]
    }
   ],
   "source": [
    "k = keys[0]\n",
    "print(' '.join(pred[k]))\n",
    "print(' '.join(label[k]))\n",
    "print(k)\n",
    "\n",
    "possible, min_dist = find_closest(pred[k])\n",
    "print(possible, min_dist)"
   ]
  },
  {
   "cell_type": "code",
   "execution_count": 271,
   "metadata": {
    "hidden": true,
    "scrolled": false
   },
   "outputs": [
    {
     "name": "stdout",
     "output_type": "stream",
     "text": [
      "D00_000\n",
      "['th ee', 'd ii', 'pr oo t^', 'p aa k^']\n",
      "D00_000 False\n",
      "p\n",
      "{'th ee', 'd ii', 'p aa k^'} 2\n",
      "th ee | p aa k^ \n",
      "\n",
      "D00_001\n",
      "['t e n^', 'c i k^', 'th ee']\n",
      "D00_001 True\n",
      "t i ee ng^ t^ th\n",
      "{'t e n^', 'c i k^', 'th ee'} 5\n",
      "t e n^ | t e n^ \n",
      "\n",
      "D00_002\n",
      "['d ii']\n",
      "D00_002 False\n",
      "k i th ii\n",
      "{'d ii'} 3\n",
      "d ii | c i k^ \n",
      "\n",
      "D00_003\n",
      "['j @@']\n",
      "D00_003 False\n",
      "r @@ n^ ng^ ph\n",
      "{'j @@'} 4\n",
      "j @@ | k @@ n^ \n",
      "\n",
      "D00_004\n",
      "['j aa w^']\n",
      "D00_004 False\n",
      "f aa w^ ee b\n",
      "{'j aa w^'} 3\n",
      "j aa w^ | z @@ j^ \n",
      "\n",
      "D00_005\n",
      "['d ii', 'm ii']\n",
      "D00_005 False\n",
      "ng n ii\n",
      "{'d ii', 'm ii'} 2\n",
      "d ii | ph vva n^ \n",
      "\n",
      "D00_006\n",
      "['c i k^', 'd ii']\n",
      "D00_006 False\n",
      "th ii ch ng^ f\n",
      "{'d ii'} 4\n",
      "d ii | th ee \n",
      "\n",
      "D00_007\n",
      "['d ii', 'm ii']\n",
      "D00_007 False\n",
      "th uu w aa n i\n",
      "{'d ii', 'm ii'} 6\n",
      "d ii | ch uua j^ \n",
      "\n",
      "D00_008\n",
      "['b a j^']\n",
      "D00_008 True\n",
      "m a j^\n",
      "{'b a j^'} 1\n",
      "b a j^ | b a j^ \n",
      "\n",
      "D00_009\n",
      "['d ii']\n",
      "D00_009 True\n",
      "r th ii th ii\n",
      "{'d ii'} 4\n",
      "d ii | d ii \n",
      "\n",
      "D00_010\n",
      "['b a j^']\n",
      "D00_010 False\n",
      "m o oo a j^\n",
      "{'b a j^'} 3\n",
      "b a j^ | m u ng^ \n",
      "\n",
      "D00_011\n",
      "['m ii']\n",
      "D00_011 True\n",
      "m ii j ii t^\n",
      "{'m ii'} 3\n",
      "m ii | m ii \n",
      "\n",
      "D00_012\n",
      "['ng aa j^']\n",
      "D00_012 False\n",
      "ng aa n^ m^ ng t^\n",
      "{'ng aa j^'} 4\n",
      "ng aa j^ | n aa m^ \n",
      "\n",
      "D00_013\n",
      "['ng aa j^', 'b a j^']\n",
      "D00_013 True\n",
      "n aa j^ z\n",
      "{'ng aa j^'} 2\n",
      "ng aa j^ | ng aa j^ \n",
      "\n",
      "D00_014\n",
      "['pr oo t^']\n",
      "D00_014 False\n",
      "k oo t^ t^\n",
      "{'pr oo t^'} 2\n",
      "pr oo t^ | l iia \n",
      "\n",
      "D00_015\n",
      "['m u ng^']\n",
      "D00_015 False\n",
      "m ng^ ph\n",
      "{'m u ng^'} 2\n",
      "m u ng^ | r uu \n",
      "\n",
      "D00_016\n",
      "['s u t^']\n",
      "D00_016 False\n",
      "s u u ng^\n",
      "{'s u t^'} 2\n",
      "s u t^ | f o n^ \n",
      "\n",
      "D00_017\n",
      "['s u t^', 'r uu', 'pr oo t^', 'm u ng^']\n",
      "D00_017 True\n",
      "d uu t^\n",
      "{'s u t^', 'r uu', 'pr oo t^'} 2\n",
      "s u t^ | s u t^ \n",
      "\n",
      "D00_018\n",
      "['c i k^', 'd ii', 'w xx n^']\n",
      "D00_018 False\n",
      "th ii th xx ng^\n",
      "{'d ii', 'w xx n^'} 4\n",
      "d ii | h i w^ \n",
      "\n",
      "D00_019\n",
      "['b a j^']\n",
      "D00_019 False\n",
      "n^ w e a j^\n",
      "{'b a j^'} 3\n",
      "b a j^ | w xx n^ \n",
      "\n",
      "D00_020\n",
      "['z @@ j^']\n",
      "D00_020 False\n",
      "l aa z @@ ng^\n",
      "{'z @@ j^'} 3\n",
      "z @@ j^ | j @@ \n",
      "\n",
      "D00_021\n",
      "['j aa w^']\n",
      "D00_021 True\n",
      "j aa h aa ng^ t^\n",
      "{'j aa w^'} 4\n",
      "j aa w^ | j aa w^ \n",
      "\n",
      "D00_022\n",
      "['n aa m^']\n",
      "D00_022 False\n",
      "b a w^ m m^ p\n",
      "{'n aa m^'} 5\n",
      "n aa m^ | pr oo t^ \n",
      "\n",
      "D00_023\n",
      "['n aa m^']\n",
      "D00_023 False\n",
      "n aa h aa m^\n",
      "{'n aa m^'} 2\n",
      "n aa m^ | kr aa p^ \n",
      "\n",
      "CPU times: user 108 ms, sys: 0 ns, total: 108 ms\n",
      "Wall time: 107 ms\n"
     ]
    }
   ],
   "source": [
    "%%time\n",
    "acc = 0\n",
    "amount = len(keys)\n",
    "in_choice = 0\n",
    "#amount = 5\n",
    "\n",
    "for key in sorted(keys)[:amount]:\n",
    "    possible, min_dist = find_closest(pred[key])\n",
    "    possible = list(possible)\n",
    "    print(key)\n",
    "    print(possible)\n",
    "    if(len(possible) > 0):        \n",
    "        possible, min_dist = find_closest(pred[key], weight=False, dictionary=possible)\n",
    "#         max_intersect = 0         \n",
    "#         for pos in possible:\n",
    "#             pass\n",
    "#             posl = pos.split(' ')\n",
    "#             intersect = 0\n",
    "#             for char in pred[key]:\n",
    "#                 if(char in posl):\n",
    "#                     intersect += 1\n",
    "#             if(intersect > max_intersect):\n",
    "#                 ans = pos                \n",
    "\n",
    "    ans = list(possible)[0]    \n",
    "    lab = \" \".join(label[key])\n",
    "    print(key, ans == lab)\n",
    "    print(\" \".join(pred[key]))\n",
    "    print(possible, min_dist)\n",
    "    print(ans, '|', lab, '\\n')\n",
    "    if(ans == lab): acc += 1\n",
    "    if(lab in possible): in_choice += 1\n",
    "    \n",
    "        \n",
    "\n",
    "# print(\"acc {}\".format(acc / amount))\n",
    "acc"
   ]
  },
  {
   "cell_type": "code",
   "execution_count": 268,
   "metadata": {
    "hidden": true
   },
   "outputs": [
    {
     "data": {
      "text/plain": [
       "(7, 0.2916666666666667)"
      ]
     },
     "execution_count": 268,
     "metadata": {},
     "output_type": "execute_result"
    }
   ],
   "source": [
    "acc, acc/amount"
   ]
  },
  {
   "cell_type": "code",
   "execution_count": 269,
   "metadata": {
    "hidden": true
   },
   "outputs": [
    {
     "data": {
      "text/plain": [
       "(8, 0.3333333333333333)"
      ]
     },
     "execution_count": 269,
     "metadata": {},
     "output_type": "execute_result"
    }
   ],
   "source": [
    "in_choice, in_choice/amount"
   ]
  },
  {
   "cell_type": "code",
   "execution_count": 270,
   "metadata": {
    "hidden": true
   },
   "outputs": [
    {
     "data": {
      "text/plain": [
       "24"
      ]
     },
     "execution_count": 270,
     "metadata": {},
     "output_type": "execute_result"
    }
   ],
   "source": [
    "amount"
   ]
  },
  {
   "cell_type": "markdown",
   "metadata": {},
   "source": [
    "# Postprocessing"
   ]
  },
  {
   "cell_type": "code",
   "execution_count": 95,
   "metadata": {},
   "outputs": [
    {
     "data": {
      "text/plain": [
       "{'D00_000': ['p', 'aa'],\n",
       " 'D00_001': ['j', 'e', 'ng^'],\n",
       " 'D00_002': ['c', 'ii'],\n",
       " 'D00_003': ['k', '@@', 'n^'],\n",
       " 'D00_004': ['k', '@@', 'z', 'a', 'j^'],\n",
       " 'D00_005': ['p', 'vva', 'ng^'],\n",
       " 'D00_006': ['th', 'ee'],\n",
       " 'D00_007': ['th', 'uua', 'j^'],\n",
       " 'D00_008': ['p', 'a', 'j^'],\n",
       " 'D00_009': ['d', 'ii'],\n",
       " 'D00_010': ['m', 'u', 'ng^'],\n",
       " 'D00_011': ['m', 'ii'],\n",
       " 'D00_012': ['ng', 'aa', 'm^'],\n",
       " 'D00_013': ['ph', 'aa', 'j^'],\n",
       " 'D00_014': ['k', 'iia', 'ng^'],\n",
       " 'D00_015': ['z^', 'uu', 'p^'],\n",
       " 'D00_016': ['f', 'u', 'n^'],\n",
       " 'D00_017': ['t', 'u', 't^'],\n",
       " 'D00_018': ['t', 'i', 'w^'],\n",
       " 'D00_019': ['w', 'xx', 'n^'],\n",
       " 'D00_020': ['j', '@@'],\n",
       " 'D00_021': ['j', 'aa', 'w^'],\n",
       " 'D00_022': ['p', 'oo', 'n^'],\n",
       " 'D00_023': ['k', 'aa', 'm^']}"
      ]
     },
     "execution_count": 95,
     "metadata": {},
     "output_type": "execute_result"
    }
   ],
   "source": [
    "label"
   ]
  },
  {
   "cell_type": "code",
   "execution_count": 96,
   "metadata": {},
   "outputs": [
    {
     "data": {
      "text/plain": [
       "{'D00_000': ['thr'],\n",
       " 'D00_001': ['t', 'ee', 'ng^', 't'],\n",
       " 'D00_002': ['z', 'th', 'ii', 'th', 'ii', 's^'],\n",
       " 'D00_003': ['thr'],\n",
       " 'D00_004': ['thr'],\n",
       " 'D00_005': ['n', 'ii', 's^'],\n",
       " 'D00_006': ['k', 'oo', 'ng^', 'f'],\n",
       " 'D00_007': ['th', 'uu', 'w', 'aa', 's^'],\n",
       " 'D00_008': ['m', 'a', 'j^'],\n",
       " 'D00_009': ['thr', 'th', 'ii', 'th', 'ii'],\n",
       " 'D00_010': ['thr'],\n",
       " 'D00_011': ['m', 'ii', 'j', 'ii', 't^'],\n",
       " 'D00_012': ['ng', 'aa', 'n^', 'thr'],\n",
       " 'D00_013': ['n', 'aa', 's^'],\n",
       " 'D00_014': ['thr'],\n",
       " 'D00_015': ['thr'],\n",
       " 'D00_016': ['s', 'u', 'ch^', 'ng^'],\n",
       " 'D00_017': ['d', 'uu', 't^'],\n",
       " 'D00_018': ['th', 'ii', 'th', 'xx', 'ng^'],\n",
       " 'D00_019': ['thr', 'a', 'j^'],\n",
       " 'D00_020': ['r', '@@', 's^'],\n",
       " 'D00_021': ['j', 'aa', 'h', 'aa', 'ng^', 'thr'],\n",
       " 'D00_022': ['khw', '@@', 'ng^', 'm', 'vva', 'm^'],\n",
       " 'D00_023': ['n', 'aa', 'h', 'aa', 'm^']}"
      ]
     },
     "execution_count": 96,
     "metadata": {},
     "output_type": "execute_result"
    }
   ],
   "source": [
    "pred"
   ]
  },
  {
   "cell_type": "code",
   "execution_count": 97,
   "metadata": {},
   "outputs": [],
   "source": [
    "keys = sorted(list(pred.keys()))"
   ]
  },
  {
   "cell_type": "code",
   "execution_count": 98,
   "metadata": {},
   "outputs": [
    {
     "name": "stdout",
     "output_type": "stream",
     "text": [
      "['thr'] \t ['p', 'aa']\n",
      "['t', 'ee', 'ng^', 't'] \t ['j', 'e', 'ng^']\n",
      "['z', 'th', 'ii', 'th', 'ii', 's^'] \t ['c', 'ii']\n",
      "['thr'] \t ['k', '@@', 'n^']\n",
      "['thr'] \t ['k', '@@', 'z', 'a', 'j^']\n",
      "['n', 'ii', 's^'] \t ['p', 'vva', 'ng^']\n",
      "['k', 'oo', 'ng^', 'f'] \t ['th', 'ee']\n",
      "['th', 'uu', 'w', 'aa', 's^'] \t ['th', 'uua', 'j^']\n",
      "['m', 'a', 'j^'] \t ['p', 'a', 'j^']\n",
      "['thr', 'th', 'ii', 'th', 'ii'] \t ['d', 'ii']\n",
      "['thr'] \t ['m', 'u', 'ng^']\n",
      "['m', 'ii', 'j', 'ii', 't^'] \t ['m', 'ii']\n",
      "['ng', 'aa', 'n^', 'thr'] \t ['ng', 'aa', 'm^']\n",
      "['n', 'aa', 's^'] \t ['ph', 'aa', 'j^']\n",
      "['thr'] \t ['k', 'iia', 'ng^']\n",
      "['thr'] \t ['z^', 'uu', 'p^']\n",
      "['s', 'u', 'ch^', 'ng^'] \t ['f', 'u', 'n^']\n",
      "['d', 'uu', 't^'] \t ['t', 'u', 't^']\n",
      "['th', 'ii', 'th', 'xx', 'ng^'] \t ['t', 'i', 'w^']\n",
      "['thr', 'a', 'j^'] \t ['w', 'xx', 'n^']\n",
      "['r', '@@', 's^'] \t ['j', '@@']\n",
      "['j', 'aa', 'h', 'aa', 'ng^', 'thr'] \t ['j', 'aa', 'w^']\n",
      "['khw', '@@', 'ng^', 'm', 'vva', 'm^'] \t ['p', 'oo', 'n^']\n",
      "['n', 'aa', 'h', 'aa', 'm^'] \t ['k', 'aa', 'm^']\n"
     ]
    }
   ],
   "source": [
    "for key in keys:\n",
    "    print(pred[key],'\\t', label[key])"
   ]
  },
  {
   "cell_type": "markdown",
   "metadata": {},
   "source": [
    "All words in dictionary has only one syllable. \n",
    "\n",
    "* Step#1: convert multiple initial consonant at very first of prediction into one.\n",
    "* Step#2: convert multiple vowel after step1 into one.\n",
    "* Step#3: convert multiple final consonant at very first of prediction into one.\n",
    "* Step#4: throw away remaining extra phones."
   ]
  },
  {
   "cell_type": "code",
   "execution_count": 99,
   "metadata": {},
   "outputs": [],
   "source": [
    "def post_processing(phones):\n",
    "    c_i = list() #initial consonant\n",
    "    v = list() #vowel\n",
    "    c_f = list() #final consonant\n",
    "    over_spelling = list()    \n",
    "    state = 0\n",
    "    phones = clean(phones)\n",
    "    for i in range(len(phones)):\n",
    "        if(state == 0):\n",
    "            if(isInit(phones[i])): c_i.append(phones[i])\n",
    "            elif(isVow(phones[i])): state = 1\n",
    "            else: state = 2\n",
    "                \n",
    "        if(state == 1):\n",
    "            if(isInit(phones[i])): state = 3\n",
    "            elif(isVow(phones[i])): v.append(phones[i])\n",
    "            else: state = 2\n",
    "        \n",
    "        if(state == 2):\n",
    "            if(isInit(phones[i])): state = 3\n",
    "            elif(isVow(phones[i])): state = 3\n",
    "            else: c_f.append(phones[i])\n",
    "        \n",
    "        else: #state = 3\n",
    "            pass\n",
    "    \n",
    "    return c_i, v, c_f\n",
    "    \n",
    "    \n",
    "def remove_interfering(phones, n=1):\n",
    "    state = None\n",
    "    skip = 0\n",
    "    i = 0\n",
    "    \n",
    "    while(i < len(phones)):\n",
    "        ph = phones[i]\n",
    "#         print(i, state, skip)\n",
    "        if(state == None):\n",
    "            state = ph\n",
    "            skip = 0\n",
    "        elif(ph != state):\n",
    "            if(skip < n):\n",
    "                skip += 1\n",
    "            else:\n",
    "                state = None               \n",
    "                i = i - skip - 1               \n",
    "        elif(skip > 0):\n",
    "            for j in range(skip):\n",
    "                phones[i-j-1] = state\n",
    "            count = 0\n",
    "        i += 1\n",
    "        \n",
    "    return phones\n",
    "\n",
    "\n",
    "def remove_duplicate(phones):\n",
    "    result = []\n",
    "    for i in range(len(phones)):\n",
    "        if(len(result) == 0):\n",
    "            result.append(phones[i])\n",
    "        elif(phones[i] != result[-1]):\n",
    "            result.append(phones[i])\n",
    "    return result\n",
    "\n",
    "\n",
    "def clean(phones):\n",
    "    temp = phones\n",
    "#     while True:\n",
    "    phones = remove_duplicate(remove_interfering(phones))\n",
    "    #     if(temp == phones):\n",
    "    #         break\n",
    "    temp = phones\n",
    "    return phones"
   ]
  },
  {
   "cell_type": "code",
   "execution_count": 102,
   "metadata": {},
   "outputs": [
    {
     "data": {
      "text/plain": [
       "['aa', 'w', 'w', 'w', 'aa', 'aa']"
      ]
     },
     "execution_count": 102,
     "metadata": {},
     "output_type": "execute_result"
    }
   ],
   "source": [
    "remove_interfering(['aa','w','t','w','aa','aa'])"
   ]
  },
  {
   "cell_type": "code",
   "execution_count": 103,
   "metadata": {},
   "outputs": [
    {
     "data": {
      "text/plain": [
       "True"
      ]
     },
     "execution_count": 103,
     "metadata": {},
     "output_type": "execute_result"
    }
   ],
   "source": [
    "remove_interfering(['aa','w','t','w','aa','aa']) == remove_interfering(['aa','w','t','w','aa','aa'])"
   ]
  },
  {
   "cell_type": "code",
   "execution_count": null,
   "metadata": {},
   "outputs": [],
   "source": [
    "post_processing(pred[k])"
   ]
  },
  {
   "cell_type": "code",
   "execution_count": 104,
   "metadata": {
    "scrolled": false
   },
   "outputs": [
    {
     "name": "stdout",
     "output_type": "stream",
     "text": [
      "pred ['thr']\n",
      "clean ['thr']\n",
      "post ['thr'] [] []\n",
      "label ['p', 'aa'] \n",
      "\n",
      "pred ['t', 'ee', 'ng^', 't']\n",
      "clean ['t', 'ee', 'ng^', 't']\n",
      "post ['t'] ['ee'] ['ng^']\n",
      "label ['j', 'e', 'ng^'] \n",
      "\n",
      "pred ['z', 'th', 'ii', 'th', 'ii', 's^']\n",
      "clean ['z', 'th', 'ii', 's^']\n",
      "post ['z', 'th'] ['ii'] ['s^']\n",
      "label ['c', 'ii'] \n",
      "\n",
      "pred ['thr']\n",
      "clean ['thr']\n",
      "post ['thr'] [] []\n",
      "label ['k', '@@', 'n^'] \n",
      "\n",
      "pred ['thr']\n",
      "clean ['thr']\n",
      "post ['thr'] [] []\n",
      "label ['k', '@@', 'z', 'a', 'j^'] \n",
      "\n",
      "pred ['n', 'ii', 's^']\n",
      "clean ['n', 'ii', 's^']\n",
      "post ['n'] ['ii'] ['s^']\n",
      "label ['p', 'vva', 'ng^'] \n",
      "\n",
      "pred ['k', 'oo', 'ng^', 'f']\n",
      "clean ['k', 'oo', 'ng^', 'f']\n",
      "post ['k'] ['oo'] ['ng^']\n",
      "label ['th', 'ee'] \n",
      "\n",
      "pred ['th', 'uu', 'w', 'aa', 's^']\n",
      "clean ['th', 'uu', 'w', 'aa', 's^']\n",
      "post ['th'] ['uu'] []\n",
      "label ['th', 'uua', 'j^'] \n",
      "\n",
      "pred ['m', 'a', 'j^']\n",
      "clean ['m', 'a', 'j^']\n",
      "post ['m'] ['a'] ['j^']\n",
      "label ['p', 'a', 'j^'] \n",
      "\n",
      "pred ['thr', 'th', 'ii', 'th', 'ii']\n",
      "clean ['thr', 'th', 'ii']\n",
      "post ['thr', 'th'] ['ii'] []\n",
      "label ['d', 'ii'] \n",
      "\n",
      "pred ['thr']\n",
      "clean ['thr']\n",
      "post ['thr'] [] []\n",
      "label ['m', 'u', 'ng^'] \n",
      "\n",
      "pred ['m', 'ii', 'j', 'ii', 't^']\n",
      "clean ['m', 'ii', 't^']\n",
      "post ['m'] ['ii'] ['t^']\n",
      "label ['m', 'ii'] \n",
      "\n",
      "pred ['ng', 'aa', 'n^', 'thr']\n",
      "clean ['ng', 'aa', 'n^', 'thr']\n",
      "post ['ng'] ['aa'] ['n^']\n",
      "label ['ng', 'aa', 'm^'] \n",
      "\n",
      "pred ['n', 'aa', 's^']\n",
      "clean ['n', 'aa', 's^']\n",
      "post ['n'] ['aa'] ['s^']\n",
      "label ['ph', 'aa', 'j^'] \n",
      "\n",
      "pred ['thr']\n",
      "clean ['thr']\n",
      "post ['thr'] [] []\n",
      "label ['k', 'iia', 'ng^'] \n",
      "\n",
      "pred ['thr']\n",
      "clean ['thr']\n",
      "post ['thr'] [] []\n",
      "label ['z^', 'uu', 'p^'] \n",
      "\n",
      "pred ['s', 'u', 'ch^', 'ng^']\n",
      "clean ['s', 'u', 'ch^', 'ng^']\n",
      "post ['s'] ['u'] ['ch^', 'ng^']\n",
      "label ['f', 'u', 'n^'] \n",
      "\n",
      "pred ['d', 'uu', 't^']\n",
      "clean ['d', 'uu', 't^']\n",
      "post ['d'] ['uu'] ['t^']\n",
      "label ['t', 'u', 't^'] \n",
      "\n",
      "pred ['th', 'ii', 'th', 'xx', 'ng^']\n",
      "clean ['th', 'xx', 'ng^']\n",
      "post ['th'] ['xx'] ['ng^']\n",
      "label ['t', 'i', 'w^'] \n",
      "\n",
      "pred ['thr', 'a', 'j^']\n",
      "clean ['thr', 'a', 'j^']\n",
      "post ['thr'] ['a'] ['j^']\n",
      "label ['w', 'xx', 'n^'] \n",
      "\n",
      "pred ['r', '@@', 's^']\n",
      "clean ['r', '@@', 's^']\n",
      "post ['r'] ['@@'] ['s^']\n",
      "label ['j', '@@'] \n",
      "\n",
      "pred ['j', 'aa', 'h', 'aa', 'ng^', 'thr']\n",
      "clean ['j', 'aa', 'ng^', 'thr']\n",
      "post ['j'] ['aa'] ['ng^']\n",
      "label ['j', 'aa', 'w^'] \n",
      "\n",
      "pred ['khw', '@@', 'ng^', 'm', 'vva', 'm^']\n",
      "clean ['khw', '@@', 'ng^', 'm', 'vva', 'm^']\n",
      "post ['khw'] ['@@'] ['ng^']\n",
      "label ['p', 'oo', 'n^'] \n",
      "\n",
      "pred ['n', 'aa', 'h', 'aa', 'm^']\n",
      "clean ['n', 'aa', 'm^']\n",
      "post ['n'] ['aa'] ['m^']\n",
      "label ['k', 'aa', 'm^'] \n",
      "\n"
     ]
    }
   ],
   "source": [
    "for k in keys:\n",
    "    print('pred', pred[k])\n",
    "    print('clean', clean(pred[k]))\n",
    "    print('post', *post_processing(pred[k]))\n",
    "    print('label', label[k], '\\n')"
   ]
  },
  {
   "cell_type": "markdown",
   "metadata": {},
   "source": [
    "# Scoring"
   ]
  },
  {
   "cell_type": "code",
   "execution_count": 113,
   "metadata": {},
   "outputs": [],
   "source": [
    "keys = sorted(list(pred.keys()))"
   ]
  },
  {
   "cell_type": "code",
   "execution_count": 114,
   "metadata": {},
   "outputs": [],
   "source": [
    "def scoring(text , target):\n",
    "    init, vowel, final = text     \n",
    "    t_final = None\n",
    "    \n",
    "    if(len(target) == 3): t_init, t_vowel, t_final = target\n",
    "    else: t_init, t_vowel = target\n",
    "    \n",
    "    correct = 0\n",
    "    print(text, target)    \n",
    "    \n",
    "    if(t_init in init):\n",
    "        correct += 1\n",
    "#         print('init:', t_init)\n",
    "        \n",
    "    if(t_vowel in vowel):\n",
    "        correct += 1\n",
    "#         print('vowel:', t_vowel)\n",
    "    \n",
    "    if(t_final != None and t_final in final):\n",
    "        correct += 1\n",
    "#         print('final:', t_final)\n",
    "    print(correct, end='\\n\\n')\n",
    "    return correct"
   ]
  },
  {
   "cell_type": "code",
   "execution_count": 115,
   "metadata": {
    "scrolled": false
   },
   "outputs": [
    {
     "name": "stdout",
     "output_type": "stream",
     "text": [
      "(['thr'], [], []) ['p', 'aa']\n",
      "0\n",
      "\n",
      "(['t'], ['ee'], ['ng^']) ['j', 'e', 'ng^']\n",
      "1\n",
      "\n",
      "(['z', 'th'], ['ii'], ['s^']) ['c', 'ii']\n",
      "1\n",
      "\n",
      "(['thr'], [], []) ['k', '@@', 'n^']\n",
      "0\n",
      "\n",
      "(['thr'], [], []) ['k', '@@', 'j^']\n",
      "0\n",
      "\n",
      "(['n'], ['ii'], ['s^']) ['p', 'vva', 'ng^']\n",
      "0\n",
      "\n",
      "(['k'], ['oo'], ['ng^']) ['th', 'ee']\n",
      "0\n",
      "\n",
      "(['th'], ['uu'], []) ['th', 'uua', 'j^']\n",
      "1\n",
      "\n",
      "(['m'], ['a'], ['j^']) ['p', 'a', 'j^']\n",
      "2\n",
      "\n",
      "(['thr', 'th'], ['ii'], []) ['d', 'ii']\n",
      "1\n",
      "\n",
      "(['thr'], [], []) ['m', 'u', 'ng^']\n",
      "0\n",
      "\n",
      "(['m'], ['ii'], ['t^']) ['m', 'ii']\n",
      "2\n",
      "\n",
      "(['ng'], ['aa'], ['n^']) ['ng', 'aa', 'm^']\n",
      "2\n",
      "\n",
      "(['n'], ['aa'], ['s^']) ['ph', 'aa', 'j^']\n",
      "1\n",
      "\n",
      "(['thr'], [], []) ['k', 'iia', 'ng^']\n",
      "0\n",
      "\n",
      "(['thr'], [], []) ['z^', 'uu', 'p^']\n",
      "0\n",
      "\n",
      "(['s'], ['u'], ['ch^', 'ng^']) ['f', 'u', 'n^']\n",
      "1\n",
      "\n",
      "(['d'], ['uu'], ['t^']) ['t', 'u', 't^']\n",
      "1\n",
      "\n",
      "(['th'], ['xx'], ['ng^']) ['t', 'i', 'w^']\n",
      "0\n",
      "\n",
      "(['thr'], ['a'], ['j^']) ['w', 'xx', 'n^']\n",
      "0\n",
      "\n",
      "(['r'], ['@@'], ['s^']) ['j', '@@']\n",
      "1\n",
      "\n",
      "(['j'], ['aa'], ['ng^']) ['j', 'aa', 'w^']\n",
      "2\n",
      "\n",
      "(['khw'], ['@@'], ['ng^']) ['p', 'oo', 'n^']\n",
      "0\n",
      "\n",
      "(['n'], ['aa'], ['m^']) ['k', 'aa', 'm^']\n",
      "2\n",
      "\n"
     ]
    },
    {
     "data": {
      "text/plain": [
       "0.25"
      ]
     },
     "execution_count": 115,
     "metadata": {},
     "output_type": "execute_result"
    }
   ],
   "source": [
    "score = 0\n",
    "for k in keys:    \n",
    "    score += scoring(post_processing(pred[k]), label[k])\n",
    "        \n",
    "        \n",
    "score / len(3*keys)"
   ]
  },
  {
   "cell_type": "code",
   "execution_count": null,
   "metadata": {},
   "outputs": [],
   "source": []
  }
 ],
 "metadata": {
  "kernelspec": {
   "display_name": "Python 3",
   "language": "python",
   "name": "python3"
  },
  "language_info": {
   "codemirror_mode": {
    "name": "ipython",
    "version": 3
   },
   "file_extension": ".py",
   "mimetype": "text/x-python",
   "name": "python",
   "nbconvert_exporter": "python",
   "pygments_lexer": "ipython3",
   "version": "3.5.2"
  },
  "notify_time": "30",
  "toc": {
   "base_numbering": 1,
   "nav_menu": {},
   "number_sections": true,
   "sideBar": true,
   "skip_h1_title": false,
   "title_cell": "Table of Contents",
   "title_sidebar": "Contents",
   "toc_cell": false,
   "toc_position": {},
   "toc_section_display": true,
   "toc_window_display": false
  },
  "varInspector": {
   "cols": {
    "lenName": 16,
    "lenType": 16,
    "lenVar": 40
   },
   "kernels_config": {
    "python": {
     "delete_cmd_postfix": "",
     "delete_cmd_prefix": "del ",
     "library": "var_list.py",
     "varRefreshCmd": "print(var_dic_list())"
    },
    "r": {
     "delete_cmd_postfix": ") ",
     "delete_cmd_prefix": "rm(",
     "library": "var_list.r",
     "varRefreshCmd": "cat(var_dic_list()) "
    }
   },
   "position": {
    "height": "477px",
    "left": "1305px",
    "right": "25px",
    "top": "145px",
    "width": "350px"
   },
   "types_to_exclude": [
    "module",
    "function",
    "builtin_function_or_method",
    "instance",
    "_Feature"
   ],
   "window_display": false
  }
 },
 "nbformat": 4,
 "nbformat_minor": 2
}
