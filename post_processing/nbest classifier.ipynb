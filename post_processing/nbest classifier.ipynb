{
 "cells": [
  {
   "cell_type": "code",
   "execution_count": 264,
   "metadata": {},
   "outputs": [],
   "source": [
    "import os\n",
    "import numpy as np\n",
    "from tabulate import tabulate\n",
    "from tqdm import tqdm\n",
    "# import keras\n",
    "# import keras.backend as K"
   ]
  },
  {
   "cell_type": "code",
   "execution_count": 114,
   "metadata": {},
   "outputs": [
    {
     "data": {
      "text/plain": [
       "['text',\n",
       " 'distance.py',\n",
       " 'nbest-sym.txt',\n",
       " 'nbest.txt',\n",
       " '.ipynb_checkpoints',\n",
       " 'nbest classifier.ipynb',\n",
       " 'words.txt']"
      ]
     },
     "execution_count": 114,
     "metadata": {},
     "output_type": "execute_result"
    }
   ],
   "source": [
    "os.listdir()"
   ]
  },
  {
   "cell_type": "markdown",
   "metadata": {},
   "source": [
    "# read data"
   ]
  },
  {
   "cell_type": "code",
   "execution_count": 2,
   "metadata": {},
   "outputs": [],
   "source": [
    "enc_phone = dict()\n",
    "dec_phone = dict()\n",
    "\n",
    "with open('words.txt') as file:\n",
    "    for line in file:\n",
    "        ph, num = line.strip().split(' ')\n",
    "        enc_phone[ph] = num\n",
    "        dec_phone[num] = ph"
   ]
  },
  {
   "cell_type": "code",
   "execution_count": 115,
   "metadata": {},
   "outputs": [],
   "source": [
    "text = dict()\n",
    "\n",
    "with open('nbest-sym.txt') as file:\n",
    "    lines = file.readlines()\n",
    "    change = False\n",
    "    name = ''\n",
    "    \n",
    "    for line in lines:\n",
    "        line = line.strip()\n",
    "        if(line != ''):\n",
    "            if(line[0] in ['F', 'M']):\n",
    "                change = True\n",
    "                name = line      \n",
    "                text[name] = []\n",
    "            elif(text[name] == []):                \n",
    "                target = line.split(' ')[1:]\n",
    "                text[name] = target           "
   ]
  },
  {
   "cell_type": "code",
   "execution_count": 116,
   "metadata": {},
   "outputs": [],
   "source": [
    "label = dict()\n",
    "\n",
    "with open('text') as file:\n",
    "    for line in file:\n",
    "        spl = line.strip().split(' ')\n",
    "        label[spl[0]] = []\n",
    "        for ph in spl[1:]:\n",
    "            label[spl[0]].append(ph)"
   ]
  },
  {
   "cell_type": "markdown",
   "metadata": {
    "heading_collapsed": true
   },
   "source": [
    "# Model (not use now)"
   ]
  },
  {
   "cell_type": "code",
   "execution_count": 80,
   "metadata": {
    "hidden": true
   },
   "outputs": [],
   "source": [
    "from keras.layers import Input, Dense, Embedding, Activation, dot, Flatten\n",
    "from keras.models import Model\n",
    "\n",
    "n_lexicon = int(len(text))\n",
    "\n",
    "def get_model():\n",
    "    a = Input(shape=(25,))\n",
    "    b = Input(shape=(25,))\n",
    "    \n",
    "    emb = Embedding(n_lexicon+1, 16)\n",
    "    a_emb = emb(a)        \n",
    "    b_emb = emb(b)    \n",
    "                \n",
    "    x = dot([a_emb, b_emb], axes=1)\n",
    "    x = Flatten()(x)\n",
    "    x = Dense(32, activation='relu')(x)\n",
    "    x = Dense(32, activation='relu')(x)\n",
    "    x = Dense(1, activation='sigmoid')(x)    \n",
    "    \n",
    "    model = Model(inputs=[a,b], outputs=x)\n",
    "    return model"
   ]
  },
  {
   "cell_type": "code",
   "execution_count": 81,
   "metadata": {
    "hidden": true
   },
   "outputs": [],
   "source": [
    "model = get_model()\n",
    "model.compile('Adam', loss='mse', metrics=['acc'])"
   ]
  },
  {
   "cell_type": "code",
   "execution_count": 82,
   "metadata": {
    "hidden": true
   },
   "outputs": [
    {
     "name": "stdout",
     "output_type": "stream",
     "text": [
      "__________________________________________________________________________________________________\n",
      "Layer (type)                    Output Shape         Param #     Connected to                     \n",
      "==================================================================================================\n",
      "input_49 (InputLayer)           (None, 25)           0                                            \n",
      "__________________________________________________________________________________________________\n",
      "input_50 (InputLayer)           (None, 25)           0                                            \n",
      "__________________________________________________________________________________________________\n",
      "embedding_48 (Embedding)        (None, 25, 16)       9600        input_49[0][0]                   \n",
      "                                                                 input_50[0][0]                   \n",
      "__________________________________________________________________________________________________\n",
      "dot_25 (Dot)                    (None, 16, 16)       0           embedding_48[0][0]               \n",
      "                                                                 embedding_48[1][0]               \n",
      "__________________________________________________________________________________________________\n",
      "flatten_4 (Flatten)             (None, 256)          0           dot_25[0][0]                     \n",
      "__________________________________________________________________________________________________\n",
      "dense_32 (Dense)                (None, 32)           8224        flatten_4[0][0]                  \n",
      "__________________________________________________________________________________________________\n",
      "dense_33 (Dense)                (None, 32)           1056        dense_32[0][0]                   \n",
      "__________________________________________________________________________________________________\n",
      "dense_34 (Dense)                (None, 1)            33          dense_33[0][0]                   \n",
      "==================================================================================================\n",
      "Total params: 18,913\n",
      "Trainable params: 18,913\n",
      "Non-trainable params: 0\n",
      "__________________________________________________________________________________________________\n"
     ]
    }
   ],
   "source": [
    "model.summary()"
   ]
  },
  {
   "cell_type": "code",
   "execution_count": 72,
   "metadata": {
    "hidden": true
   },
   "outputs": [],
   "source": [
    "words_dict = []\n",
    "keys = []\n",
    "maxlen = 25\n",
    "\n",
    "for key in label:\n",
    "    phonemes = label[key][:maxlen]\n",
    "    addition = maxlen-len(phonemes)\n",
    "    if(addition > 0):\n",
    "        phonemes.extend([enc_phone[\"<SIL>\"]]*addition)    \n",
    "    words_dict.append(phonemes)\n",
    "\n",
    "#     for phone in phonemes:        \n",
    "#         temp = np.zeros(n_lexicon,dtype=np.int)\n",
    "#         temp[int(phone)] = 1\n",
    "#         words_dict[-1].append(temp)\n",
    "    \n",
    "    keys.append(key)"
   ]
  },
  {
   "cell_type": "code",
   "execution_count": 73,
   "metadata": {
    "hidden": true
   },
   "outputs": [
    {
     "data": {
      "text/plain": [
       "(599, 25)"
      ]
     },
     "execution_count": 73,
     "metadata": {},
     "output_type": "execute_result"
    }
   ],
   "source": [
    "words_dict = np.array(words_dict, dtype='int')\n",
    "words_dict.shape"
   ]
  },
  {
   "cell_type": "code",
   "execution_count": 74,
   "metadata": {
    "hidden": true
   },
   "outputs": [],
   "source": [
    "X_train_emb_a = np.concatenate((words_dict,words_dict), axis=0)\n",
    "X_train_emb_b = np.concatenate((words_dict,np.flip(words_dict,0)), axis=0)\n",
    "y_train_emb = [1]*(len(X_train_emb_a)//2) + [0]*(len(X_train_emb_a)//2)\n",
    "y_train_emb = np.array(y_train_emb, dtype='int')"
   ]
  },
  {
   "cell_type": "code",
   "execution_count": 75,
   "metadata": {
    "hidden": true
   },
   "outputs": [
    {
     "data": {
      "text/plain": [
       "((1198, 25), (1198, 25), (1198,))"
      ]
     },
     "execution_count": 75,
     "metadata": {},
     "output_type": "execute_result"
    }
   ],
   "source": [
    "X_train_emb_a.shape, X_train_emb_b.shape, y_train_emb.shape"
   ]
  },
  {
   "cell_type": "code",
   "execution_count": 76,
   "metadata": {
    "hidden": true
   },
   "outputs": [
    {
     "name": "stdout",
     "output_type": "stream",
     "text": [
      "Epoch 1/10\n",
      "1198/1198 [==============================] - 1s 460us/step - loss: 0.2410 - acc: 0.6202\n",
      "Epoch 2/10\n",
      "1198/1198 [==============================] - 0s 183us/step - loss: 0.1594 - acc: 0.8681\n",
      "Epoch 3/10\n",
      "1198/1198 [==============================] - 0s 185us/step - loss: 0.0623 - acc: 0.9349\n",
      "Epoch 4/10\n",
      "1198/1198 [==============================] - 0s 175us/step - loss: 0.0323 - acc: 0.9716\n",
      "Epoch 5/10\n",
      "1198/1198 [==============================] - 0s 180us/step - loss: 0.0229 - acc: 0.9733\n",
      "Epoch 6/10\n",
      "1198/1198 [==============================] - 0s 186us/step - loss: 0.0170 - acc: 0.9816\n",
      "Epoch 7/10\n",
      "1198/1198 [==============================] - 0s 175us/step - loss: 0.0137 - acc: 0.9875\n",
      "Epoch 8/10\n",
      "1198/1198 [==============================] - 0s 177us/step - loss: 0.0107 - acc: 0.9900\n",
      "Epoch 9/10\n",
      "1198/1198 [==============================] - 0s 163us/step - loss: 0.0093 - acc: 0.9917\n",
      "Epoch 10/10\n",
      "1198/1198 [==============================] - 0s 176us/step - loss: 0.0089 - acc: 0.9917\n"
     ]
    },
    {
     "data": {
      "text/plain": [
       "<keras.callbacks.History at 0x7f28c01580f0>"
      ]
     },
     "execution_count": 76,
     "metadata": {},
     "output_type": "execute_result"
    }
   ],
   "source": [
    "model.fit(x=[X_train_emb_a, X_train_emb_b], y=y_train_emb, epochs=10, batch_size=32)"
   ]
  },
  {
   "cell_type": "markdown",
   "metadata": {},
   "source": [
    "# edit-distance"
   ]
  },
  {
   "cell_type": "code",
   "execution_count": 291,
   "metadata": {},
   "outputs": [],
   "source": [
    "#dp edit-distance \n",
    "def distance(a,b, debug=False):\n",
    "    N = len(a)\n",
    "    M = len(b)\n",
    "    dp = np.zeros((N+1,M+1), dtype=np.int)\n",
    "    \n",
    "    for i in range(N+1):\n",
    "        dp[i][0] = i\n",
    "        \n",
    "    for j in range(M+1):\n",
    "        dp[0][j] = j\n",
    "    \n",
    "    for i in range(N):\n",
    "        for j in range(M):\n",
    "            best_prev = min(dp[i][j], min(dp[i+1][j], dp[i][j+1]))\n",
    "            if(a[i] == b[j]):\n",
    "                dp[i+1][j+1] = dp[i][j]\n",
    "            else:\n",
    "                dp[i+1][j+1] = best_prev + measure_weight(a[i], b[j])\n",
    "    if(debug):\n",
    "        return dp\n",
    "    else:\n",
    "        return dp[N][M]\n",
    "    \n",
    "    \n",
    "def debug(a = list(\"sunday\"), b = list(\"suundaY\")):\n",
    "    table = distance(a, b, debug=True)\n",
    "    a = list(a)\n",
    "    b = list(b)\n",
    "    tabs = []\n",
    "    for i, row in enumerate(table):        \n",
    "        tabs.append([([''] + a)[i]])\n",
    "        tabs[-1].extend(row)\n",
    "\n",
    "    print(tabulate(tabs, headers=['']+b))\n",
    "    \n",
    "\n",
    "def isVow(x):\n",
    "    return x in ['a','aa', 'i', 'ii', 'v', 'vv', 'u', 'uu', 'e', 'ee',\n",
    "                'x', 'xx', 'o', 'oo', '@', '@@', 'q', 'qq', \n",
    "                'ia', 'iia', 'va', 'vva', 'ua', 'uua']\n",
    "    \n",
    "    \n",
    "def measure_weight(x, y):\n",
    "    inter_vow_weight = 3 # a -> i\n",
    "    partial_inter_vow_weight = 2 # vv -> vva, v -> va\n",
    "    inside_vow_weight = 1 # v -> vv, ua -> uua\n",
    "    norm_weight = 1;\n",
    "#     return 1\n",
    "    if(x == y): return 0\n",
    "    try:\n",
    "        x = dec_phone[x]\n",
    "        y = dec_phone[y]\n",
    "    except:\n",
    "        pass\n",
    "    \n",
    "    if(isVow(x) or isVow(y)):\n",
    "        if(len(x) > len(y)):\n",
    "            x, y = y, x\n",
    "\n",
    "        if( x[0]*2 + x[1:] == y ):\n",
    "            return inside_vow_weight\n",
    "        elif(x + 'a' == y):\n",
    "            return partial_inter_vow_weight\n",
    "        else:\n",
    "            return inter_vow_weight\n",
    "    else:\n",
    "        return norm_weight"
   ]
  },
  {
   "cell_type": "code",
   "execution_count": 274,
   "metadata": {},
   "outputs": [],
   "source": [
    "def find_closest(x):    \n",
    "    possible = set()\n",
    "    min_dist = 1e9\n",
    "    for key, val in label.items():        \n",
    "        dist = distance(x, val)\n",
    "        if(dist < min_dist):\n",
    "            min_dist = dist            \n",
    "            possible = set([\" \".join(val)])\n",
    "        elif(dist == min_dist):\n",
    "            possible.add(\" \".join(val))\n",
    "    return possible, min_dist"
   ]
  },
  {
   "cell_type": "code",
   "execution_count": 215,
   "metadata": {},
   "outputs": [],
   "source": [
    "keys = list(text.keys())"
   ]
  },
  {
   "cell_type": "code",
   "execution_count": 277,
   "metadata": {
    "scrolled": false
   },
   "outputs": [
    {
     "name": "stdout",
     "output_type": "stream",
     "text": [
      "l @@ phl aa ph @@ p a j^ j uu t^\n",
      "l aa k @@ j^\n",
      "F5731101921_0080\n",
      "{'l aa k @@ j^', 'phl ee ng^ t @@ p a j^', 'kh @@ phl ee ng^ kl a j^', 'kh aa m^ p a j^'} 8\n"
     ]
    }
   ],
   "source": [
    "k = keys[0]\n",
    "print(' '.join(text[k]))\n",
    "print(' '.join(label[k]))\n",
    "print(k)\n",
    "\n",
    "possible, min_dist = find_closest(text[k])\n",
    "print(possible, min_dist)"
   ]
  },
  {
   "cell_type": "markdown",
   "metadata": {},
   "source": [
    "## test accuracy"
   ]
  },
  {
   "cell_type": "code",
   "execution_count": null,
   "metadata": {
    "scrolled": false
   },
   "outputs": [
    {
     "name": "stderr",
     "output_type": "stream",
     "text": [
      "  3%|▎         | 15/599 [00:04<02:44,  3.54it/s]"
     ]
    },
    {
     "name": "stdout",
     "output_type": "stream",
     "text": [
      "M5730279821_0051\n",
      "phl qq t^ phl ee ng^ phl ee ng^ j uu b a j^ l qq f^ j uu n^\n",
      "{'l qq k^ l e n^', 'j u t^'}\n",
      "p qq t^ phl ee ng^ \n",
      "\n"
     ]
    },
    {
     "name": "stderr",
     "output_type": "stream",
     "text": [
      "  4%|▍         | 24/599 [00:06<02:32,  3.76it/s]"
     ]
    },
    {
     "name": "stdout",
     "output_type": "stream",
     "text": [
      "M5730282621_0075\n",
      "phl ee ng^ phl ee ng^ phl ee ng^ j ii\n",
      "{'kh aa m^ phl ee ng^ n ii', 'h aa m^ l e n^ phl ee ng^ n ii'}\n",
      "l e n^ phl ee ng^ z a r a j^ k @@ d aa j^ n aa th ii \n",
      "\n"
     ]
    },
    {
     "name": "stderr",
     "output_type": "stream",
     "text": [
      "  5%|▍         | 29/599 [00:07<02:29,  3.83it/s]"
     ]
    },
    {
     "name": "stdout",
     "output_type": "stream",
     "text": [
      "F5731101921_0055\n",
      "t^ phl ee o th a m\n",
      "{'', 'p qq t^ phl ee ng^ kl a j^', 'kh aa m^'}\n",
      "p qq t^ phl ee ng^ \n",
      "\n"
     ]
    },
    {
     "name": "stderr",
     "output_type": "stream",
     "text": [
      "  6%|▋         | 38/599 [00:09<02:17,  4.08it/s]"
     ]
    },
    {
     "name": "stdout",
     "output_type": "stream",
     "text": [
      "M5730279821_0048\n",
      "ch a k^ c aa\n",
      "{'ch a t^ d aa w^', ''}\n",
      "ch a t^ d aa w^ \n",
      "\n",
      "M5730328921_0033\n",
      "d aa k^ n ii\n",
      "{'k oo w aa c ii', ''}\n",
      "d a ng^ z ii k^ \n",
      "\n"
     ]
    },
    {
     "name": "stderr",
     "output_type": "stream",
     "text": [
      "  7%|▋         | 41/599 [00:10<02:17,  4.07it/s]"
     ]
    },
    {
     "name": "stdout",
     "output_type": "stream",
     "text": [
      "M5730328921_0034\n",
      "z qq l ii k^ ii\n",
      "{'', 'ph qq m^ z ii k^', 'z ii k^'}\n",
      "ph qq m^ z ii k^ \n",
      "\n"
     ]
    },
    {
     "name": "stderr",
     "output_type": "stream",
     "text": [
      "  7%|▋         | 44/599 [00:10<02:13,  4.16it/s]"
     ]
    },
    {
     "name": "stdout",
     "output_type": "stream",
     "text": [
      "F5731101921_0049\n",
      "phl i t^ phl ee j a m^ t^\n",
      "{'l e n^ s a m^', 'p qq t^ phl ee ng^ kl a j^', 'kh aa m^'}\n",
      "p i t^ s iia ng^ \n",
      "\n"
     ]
    },
    {
     "name": "stderr",
     "output_type": "stream",
     "text": [
      "  8%|▊         | 47/599 [00:11<02:14,  4.11it/s]"
     ]
    },
    {
     "name": "stdout",
     "output_type": "stream",
     "text": [
      "M5731100221_0060\n",
      "kh @@ phl ee ng^ s a br ee w i p^ n ii\n",
      "{'', 'kh aa m^ phl ee ng^ n ii', 'kh @@ phl ee ng^ kl a j^'}\n",
      "kh @@ phl ee ng^ \n",
      "\n",
      "F5731101921_0081\n",
      "l e n^ phl qq t^ l ee ng^ ng^\n",
      "{'l e n^ phl ee ng^', 'p qq t^ phl ee ng^', 'l qq k^ l e n^'}\n",
      " \n",
      "\n"
     ]
    },
    {
     "name": "stderr",
     "output_type": "stream",
     "text": [
      " 10%|█         | 60/599 [00:14<02:11,  4.09it/s]"
     ]
    },
    {
     "name": "stdout",
     "output_type": "stream",
     "text": [
      "M5731100221_0009\n",
      "kl j^ ng a p^ r aa j^ z ee ng^ ng xx p^\n",
      "{'', 'ng iia p^', 'phl ee ng^ z vv n^'}\n",
      "phl ee ng^ t @@ p a j^ phl ee ng^ z a r a j^ \n",
      "\n"
     ]
    },
    {
     "name": "stderr",
     "output_type": "stream",
     "text": [
      " 12%|█▏        | 70/599 [00:17<02:09,  4.09it/s]"
     ]
    },
    {
     "name": "stdout",
     "output_type": "stream",
     "text": [
      "F5731101921_0085\n",
      "phl ee t^ phl ee ng^ ch @@ phl ee ng^ n ii\n",
      "{'m a j^ ch @@ p^ phl ee ng^ n ii', 'kh @@ phl ee ng^'}\n",
      "m a j^ ch @@ p^ phl ee ng^ n ii \n",
      "\n",
      "M5730279821_0018\n",
      "l e n^ t @ m^ phl ee ng^ ng^\n",
      "{'l e n^ phl ee ng^', 'r xx n^ d @ m^ phl ee ng^'}\n",
      "r xx n^ d @ m^ phl ee ng^ \n",
      "\n",
      "M5730282621_0059\n",
      "kh @@ t^ ch r aa j^ l vv n^\n",
      "{'', 'ch a f i n^', 'phl ee ng^ z vv n^'}\n",
      "kh @@ phl ee ng^ kl a j^ \n",
      "\n"
     ]
    },
    {
     "name": "stderr",
     "output_type": "stream",
     "text": [
      " 13%|█▎        | 77/599 [00:19<02:09,  4.02it/s]"
     ]
    },
    {
     "name": "stdout",
     "output_type": "stream",
     "text": [
      "M5730328921_0001\n",
      "k oo w aa c ii l e n^ phl ee ng^ ch ee l oo j uu n^\n",
      "{'k oo w aa c ii l e n^ phl ee ng^', 'k oo w aa c ii l e n^ phl ee ng^ z aa w^', 'k oo w aa c ii l e n^ phl ee ng^ kh uu ch ii w i t^'}\n",
      "k oo w aa c ii l e n^ phl ee ng^ \n",
      "\n",
      "M5730282621_0047\n",
      "k uua j^ c ii b a ng^ l xx ng^\n",
      "{'phl ee ng^ n ii khr a j^ t x ng^', 'b a w^ s iia ng^'}\n",
      "k oo w aa c ii b aa j^ b aa j^ \n",
      "\n"
     ]
    },
    {
     "name": "stderr",
     "output_type": "stream",
     "text": [
      " 14%|█▎        | 82/599 [00:19<02:05,  4.11it/s]"
     ]
    },
    {
     "name": "stdout",
     "output_type": "stream",
     "text": [
      "M5730328921_0046\n",
      "p i t^ k oo kr iia ng^\n",
      "{'p i t^ s iia ng^', 'p i t^ pr oo kr x m^'}\n",
      "p i t^ pr oo kr x m^ \n",
      "\n"
     ]
    },
    {
     "name": "stderr",
     "output_type": "stream",
     "text": [
      " 16%|█▋        | 98/599 [00:23<02:01,  4.13it/s]"
     ]
    },
    {
     "name": "stdout",
     "output_type": "stream",
     "text": [
      "F5730295821_0067\n",
      "phl ee ng^ phl ee ng^ h @@ ng^ s ii r a p i n^ s xx ng^\n",
      "{'l e n^ phl ee ng^ kh @@ ng^ s i n^ l a p i n^', 'l e n^ phl ee ng^ kh @@ ng^ s i n^ l a p i n^ s a t xx m^'}\n",
      "l e n^ phl ee ng^ kh @@ ng^ s i n^ l a p i n^ s a t xx m^ \n",
      "\n",
      "F5730295821_0026\n",
      "l ee n^ phl ee ng^ n ii w a r a j^ l i ng^\n",
      "{'phl ee ng^ n ii khr a j^ t x ng^', 'phl ee ng^ n ii khr a j^ r @@ ng^', 'l e n^ phl ee ng^ n ii s a m^'}\n",
      "r qq m^ phl ee ng^ n ii m a j^ \n",
      "\n"
     ]
    },
    {
     "name": "stderr",
     "output_type": "stream",
     "text": [
      " 17%|█▋        | 101/599 [00:24<02:00,  4.14it/s]"
     ]
    },
    {
     "name": "stdout",
     "output_type": "stream",
     "text": [
      "M5730282621_0081\n",
      "l t^ phl ee ng^ n ee ng^ s a n^\n",
      "{'l e n^ s a m^', 'phl ee ng^ t @@ p a j^'}\n",
      " \n",
      "\n"
     ]
    },
    {
     "name": "stderr",
     "output_type": "stream",
     "text": [
      " 18%|█▊        | 109/599 [00:26<01:58,  4.14it/s]"
     ]
    },
    {
     "name": "stdout",
     "output_type": "stream",
     "text": [
      "M5730282621_0055\n",
      "phl qq m^ phl ee ng^ ch a\n",
      "{'p qq t^ phl ee ng^ kl a j^', 'p qq t^ phl ee ng^'}\n",
      "p qq t^ phl ee ng^ \n",
      "\n",
      "M5730279821_0042\n",
      "l t^ k @@ n^\n",
      "{'l aa k @@ j^', 'j u t^ k @@ n^', 'ph @@ t^'}\n",
      "j u t^ k @@ n^ \n",
      "\n"
     ]
    },
    {
     "name": "stderr",
     "output_type": "stream",
     "text": [
      " 19%|█▉        | 115/599 [00:27<01:55,  4.18it/s]"
     ]
    },
    {
     "name": "stdout",
     "output_type": "stream",
     "text": [
      "M5730279821_0063\n",
      "l v n^ phl ee ng^ k a phl ee w i t^ phl ee n^ ph uu uu k^\n",
      "{'l e n^ phl ee ng^ c aa k^ ph e n^ l i t^ phl ee ng^', 'l e n^ phl ee ng^ c aa k^ ph e n^ l i t^ phl ee ng^ pr oo t^'}\n",
      "l e n^ phl ee ng^ c aa k^ ph e n^ l i t^ phl ee ng^ l uu k^ th u ng^ \n",
      "\n"
     ]
    },
    {
     "name": "stderr",
     "output_type": "stream",
     "text": [
      " 20%|█▉        | 118/599 [00:28<01:55,  4.16it/s]"
     ]
    },
    {
     "name": "stdout",
     "output_type": "stream",
     "text": [
      "F5730295821_0038\n",
      "phl aa ng^ b a w^ k^ n ii\n",
      "{'kh aa m^ phl ee ng^ n ii', 'b a w^ z ii k^'}\n",
      "b a w^ z ii k^ \n",
      "\n"
     ]
    },
    {
     "name": "stderr",
     "output_type": "stream",
     "text": [
      " 21%|██        | 123/599 [00:29<01:53,  4.21it/s]"
     ]
    },
    {
     "name": "stdout",
     "output_type": "stream",
     "text": [
      "F5730295821_0079\n",
      "ch iia ng^ khr @ n^\n",
      "{'', 'b a w^ s iia ng^ n @ j^', 'ph @@ t^'}\n",
      "ch a f i n^ \n",
      "\n"
     ]
    },
    {
     "name": "stderr",
     "output_type": "stream",
     "text": [
      " 22%|██▏       | 129/599 [00:30<01:52,  4.17it/s]"
     ]
    },
    {
     "name": "stdout",
     "output_type": "stream",
     "text": [
      "M5731100221_0051\n",
      "p qq t^ phl ee ng^ z a j^ h t^ j uu z a j^ l qq f^ j uu\n",
      "{'', 'p qq t^ phl ee ng^ kl a j^'}\n",
      "p qq t^ phl ee ng^ \n",
      "\n"
     ]
    },
    {
     "name": "stderr",
     "output_type": "stream",
     "text": [
      " 22%|██▏       | 132/599 [00:31<01:52,  4.16it/s]"
     ]
    },
    {
     "name": "stdout",
     "output_type": "stream",
     "text": [
      "M5731100221_0063\n",
      "l ee ng^ phl ee ng^ c aa k^ phl ee ng^ l ii s ee ng^ r u ph uu\n",
      "{'l e n^ phl ee ng^ c aa k^ ph e n^ l i t^ phl ee ng^ l uu k^ th u ng^', 'l e n^ phl ee ng^ c aa k^ ph e n^ l i t^ phl ee ng^', 'l e n^ phl ee ng^ c aa k^ ph e n^ l i t^ phl ee ng^ pr oo t^'}\n",
      "l e n^ phl ee ng^ c aa k^ ph e n^ l i t^ phl ee ng^ l uu k^ th u ng^ \n",
      "\n"
     ]
    },
    {
     "name": "stderr",
     "output_type": "stream",
     "text": [
      " 23%|██▎       | 135/599 [00:32<01:50,  4.19it/s]"
     ]
    },
    {
     "name": "stdout",
     "output_type": "stream",
     "text": [
      "F5730295821_0042\n",
      "m j u t^ z @@ l a w^\n",
      "{'j u t^ k @@ n^', 'j u t^ ch uua khr aa w^'}\n",
      "j u t^ k @@ n^ \n",
      "\n",
      "F5731101921_0084\n",
      "phl ee ng^ phl ee ng^ n ii t^\n",
      "{'kh aa m^ phl ee ng^ n ii', 'l e n^ phl ee ng^ kh @@ ng^', 'l e n^ phl ee ng^', 'z ii k^', 'phl ee ng^ z vv n^', 'l e n^ phl ee ng^ n ii s a m^'}\n",
      "m a j^ z a w^ phl ee ng^ n ii \n",
      "\n"
     ]
    },
    {
     "name": "stderr",
     "output_type": "stream",
     "text": [
      " 23%|██▎       | 138/599 [00:32<01:49,  4.21it/s]"
     ]
    },
    {
     "name": "stdout",
     "output_type": "stream",
     "text": [
      "M5730282621_0009\n",
      "phl ee ng^ k o w^ ph aa ng^ phl ee ng^ z a j^\n",
      "{'phl ee ng^ t @@ p a j^ phl ee ng^ z a r a j^', 'p qq t^ phl ee ng^ kl a j^'}\n",
      "phl ee ng^ t @@ p a j^ phl ee ng^ z a r a j^ \n",
      "\n",
      "M5730282621_0067\n",
      "phl ee ng^ h @ ng^ th ii l e n^ p i t^ phl ee ng^\n",
      "{'l e n^ phl ee ng^', 'k oo w aa c ii l e n^ s i p^ phl ee ng^'}\n",
      "l e n^ phl ee ng^ kh @@ ng^ s i n^ l a p i n^ s a t xx m^ "
     ]
    },
    {
     "name": "stderr",
     "output_type": "stream",
     "text": [
      " 24%|██▎       | 142/599 [00:33<01:48,  4.20it/s]"
     ]
    },
    {
     "name": "stdout",
     "output_type": "stream",
     "text": [
      "\n",
      "\n",
      "M5730328921_0055\n",
      "p qq t^ phl ee n^ w i t^ h aa n^\n",
      "{'r qq m^ phl ee ng^ n ii m a j^', 'p qq t^ phl ee ng^ kl a j^'}\n",
      "p qq t^ phl ee ng^ \n",
      "\n"
     ]
    },
    {
     "name": "stderr",
     "output_type": "stream",
     "text": [
      " 25%|██▍       | 148/599 [00:34<01:46,  4.25it/s]"
     ]
    },
    {
     "name": "stdout",
     "output_type": "stream",
     "text": [
      "M5730282621_0068\n",
      "l ee ng^ kh @@ t^ phl oo l ii k @@ n^\n",
      "{'l aa k @@ j^', 'ph @@ t^'}\n",
      "l e n^ phl ee ng^ kh @@ ng^ s i n^ l a p i n^ c oo z ii b @ j^ \n",
      "\n"
     ]
    },
    {
     "name": "stderr",
     "output_type": "stream",
     "text": [
      " 25%|██▌       | 151/599 [00:35<01:45,  4.24it/s]"
     ]
    },
    {
     "name": "stdout",
     "output_type": "stream",
     "text": [
      "M5730328921_0037\n",
      "p a w^ k @@ n^ r @ j^\n",
      "{'b a w^ s iia ng^ n @ j^', 'b a w^ b a w^ n @ j^'}\n",
      "b a w^ b a w^ n @ j^ \n",
      "\n"
     ]
    },
    {
     "name": "stderr",
     "output_type": "stream",
     "text": [
      " 26%|██▌       | 155/599 [00:36<01:44,  4.23it/s]"
     ]
    },
    {
     "name": "stdout",
     "output_type": "stream",
     "text": [
      "M5730279821_0031\n",
      "phl qq m^ n e t^ phl ee n^ l i t^ phl ee ng^ k @@ n^ z aa m^\n",
      "{'ph qq m^ n a j^ ph e n^ l i t^ phl ee ng^', 'phl ee ng^ t @@ p a j^', 'l e n^ phl ee ng^ k @@ n^ n aa', 'ph qq m^ n a j^ ph e n^ l i t^ phl ee ng^ pr oo t^'}\n",
      "ph qq m^ n a j^ ph e n^ l i t^ phl ee ng^ \n",
      "\n"
     ]
    },
    {
     "name": "stderr",
     "output_type": "stream",
     "text": [
      " 28%|██▊       | 165/599 [00:38<01:42,  4.25it/s]"
     ]
    },
    {
     "name": "stdout",
     "output_type": "stream",
     "text": [
      "F5731101921_0028\n",
      "phl ee ph e kh xx t^\n",
      "{'ph @@ l xx w^', ''}\n",
      "phl ee ng^ n ii khr a j^ t x ng^ \n",
      "\n"
     ]
    },
    {
     "name": "stderr",
     "output_type": "stream",
     "text": [
      " 29%|██▉       | 173/599 [00:40<01:40,  4.24it/s]"
     ]
    },
    {
     "name": "stdout",
     "output_type": "stream",
     "text": [
      "F5730295821_0066\n",
      "phl ee ng^ kh @@ ng^ s iia z vv n^ phl ee n^ l ee ng^ l iia r iia k^\n",
      "{'ng iia p^', 'pl iia n^'}\n",
      "l e n^ phl ee ng^ kh @@ ng^ s i n^ l a p i n^ \n",
      "\n",
      "M5730282621_0091\n",
      "kh oo l ee ng^ z a w^\n",
      "{'kh @@ phl ee ng^ kl a j^', 'l e n^ s a m^'}\n",
      "ph @@ l xx w^ \n",
      "\n"
     ]
    },
    {
     "name": "stderr",
     "output_type": "stream",
     "text": [
      " 30%|██▉       | 178/599 [00:41<01:38,  4.26it/s]"
     ]
    },
    {
     "name": "stdout",
     "output_type": "stream",
     "text": [
      "F5730295821_0060\n",
      "kh @@ p^ phl ee ng^ s ee w ee t^ n ii\n",
      "{'', 'kh aa m^ phl ee ng^ n ii', 'm a j^ ch @@ p^ phl ee ng^ n ii', 'h aa m^ l e n^ phl ee ng^ n ii'}\n",
      "kh @@ phl ee ng^ \n",
      "\n",
      "M5730282621_0045\n",
      "s a ng^ phl\n",
      "{'', 'kh aa m^'}\n",
      "s a t @ p^ \n",
      "\n"
     ]
    },
    {
     "name": "stderr",
     "output_type": "stream",
     "text": [
      " 30%|███       | 182/599 [00:43<01:38,  4.23it/s]"
     ]
    },
    {
     "name": "stdout",
     "output_type": "stream",
     "text": [
      "M5730279821_0001\n",
      "k oo w aa c ii l e n^ phl ee ng^ ch o k^ j uu\n",
      "{'k oo w aa c ii l e n^ phl ee ng^ s a t ee', 'k oo w aa c ii l e n^ phl ee ng^', 'k oo w aa c ii l e n^ phl ee ng^ z aa w^'}\n",
      "k oo w aa c ii l e n^ phl ee ng^ \n",
      "\n",
      "M5730328921_0065\n",
      "phl ee ng^ kh @@ ng^ s u k^ p qq t^ ch u ng^ n ii z a\n",
      "{'', 'r qq m^ phl ee ng^ n ii m a j^'}\n",
      "l e n^ phl ee ng^ kh @@ ng^ \n",
      "\n"
     ]
    },
    {
     "name": "stderr",
     "output_type": "stream",
     "text": [
      " 31%|███       | 187/599 [00:44<01:37,  4.21it/s]"
     ]
    },
    {
     "name": "stdout",
     "output_type": "stream",
     "text": [
      "M5731100221_0053\n",
      "p qq t^ phl ee ng^ s khr ee t^\n",
      "{'p qq t^ phl ee ng^ kl a j^', 'p qq t^ phl ee ng^'}\n",
      "p qq t^ phl ee ng^ \n",
      "\n",
      "F5731101921_0013\n",
      "phl ee m^ l ee ng^ r a j^\n",
      "{'kh @@ phl ee ng^ kl a j^', 'phl ee ng^ t @@ p a j^', 'p qq t^ phl ee ng^ kl a j^', 'l e n^ s a m^'}\n",
      "l e n^ phl ee ng^ \n",
      "\n"
     ]
    },
    {
     "name": "stderr",
     "output_type": "stream",
     "text": [
      " 32%|███▏      | 191/599 [00:45<01:36,  4.22it/s]"
     ]
    },
    {
     "name": "stdout",
     "output_type": "stream",
     "text": [
      "M5730328921_0021\n",
      "d aa l xx w^ n @ j^\n",
      "{'d a ng^ d a ng^ n @ j^', 'b a w^ b a w^ n @ j^'}\n",
      "d a ng^ d a ng^ n @ j^ \n",
      "\n"
     ]
    },
    {
     "name": "stderr",
     "output_type": "stream",
     "text": [
      " 33%|███▎      | 196/599 [00:46<01:35,  4.22it/s]"
     ]
    },
    {
     "name": "stdout",
     "output_type": "stream",
     "text": [
      "M5730282621_0052\n",
      "phl qq phl ee ng^ r aa j^ n a j^\n",
      "{'phl ee ng^ t @@ p a j^', 'kh aa m^ p a j^'}\n",
      "p qq t^ phl ee ng^ kl a j^ \n",
      "\n",
      "F5731101921_0063\n",
      "phl ee ng^ c aa k^ ph e n^ l i t^ phl ee ng^ th u ng^\n",
      "{'l e n^ phl ee ng^ c aa k^ ph e n^ l i t^ phl ee ng^ l uu k^ th u ng^', 'l e n^ phl ee ng^ c aa k^ ph e n^ l i t^ phl ee ng^ pr oo t^'}\n",
      "l e n^ phl ee ng^ c aa k^ ph e n^ l i t^ phl ee ng^ l uu k^ th u ng^ \n",
      "\n"
     ]
    },
    {
     "name": "stderr",
     "output_type": "stream",
     "text": [
      " 34%|███▍      | 206/599 [00:49<01:34,  4.18it/s]"
     ]
    },
    {
     "name": "stdout",
     "output_type": "stream",
     "text": [
      "M5730328921_0064\n",
      "t vv phl ee ng^ kh @@ ng^ m aa d uu m^ s @@ z aa z ii\n",
      "{'k oo w aa c ii', '', 'phl ee ng^ n ii j aa w^ k ii n aa th ii'}\n",
      "l e n^ phl ee ng^ kh @@ ng^ \n",
      "\n",
      "F5730295821_0064\n",
      "khr ee ng^ phl ee ng^ kh @@ ng^ thr @@ d uu n^ p @ j^\n",
      "{'', 'ph @@ t^', 'j u t^ k @@ n^', 'l e n^ phl ee ng^ kh @@ ng^'}\n",
      "l e n^ phl ee ng^ kh @@ ng^ \n",
      "\n"
     ]
    },
    {
     "name": "stderr",
     "output_type": "stream",
     "text": [
      " 35%|███▌      | 212/599 [00:50<01:32,  4.18it/s]"
     ]
    },
    {
     "name": "stdout",
     "output_type": "stream",
     "text": [
      "M5730282621_0095\n",
      "m vva ng^ l ee ng^\n",
      "{'', 's u m^ phl ee ng^', 'kh @@ phl ee ng^', 'l e n^ phl ee ng^', 'j u t^ phl ee ng^', 'p qq t^ phl ee ng^', 'p qq t^ n vva phl ee ng^'}\n",
      "p qq t^ n vva phl ee ng^ \n",
      "\n",
      "M5730279821_0046\n",
      "p i t^ ch vva k vva ng^\n",
      "{'', 'p i t^ s iia ng^', 'p qq t^ n vva phl ee ng^'}\n",
      "p i t^ pr oo kr x m^ \n",
      "\n"
     ]
    },
    {
     "name": "stderr",
     "output_type": "stream",
     "text": [
      " 36%|███▌      | 217/599 [00:51<01:30,  4.22it/s]"
     ]
    },
    {
     "name": "stdout",
     "output_type": "stream",
     "text": [
      "M5730282621_0016\n",
      "l iia ng^\n",
      "{'ng iia p^', 'pl iia n^'}\n",
      "pl iia n^ \n",
      "\n"
     ]
    },
    {
     "name": "stderr",
     "output_type": "stream",
     "text": [
      " 37%|███▋      | 221/599 [00:52<01:29,  4.21it/s]"
     ]
    },
    {
     "name": "stdout",
     "output_type": "stream",
     "text": [
      "F5731101921_0003\n",
      "k oo w aa c ii l e n^ phl ee ng^ r ee n^\n",
      "{'k oo w aa c ii l e n^ phl ee ng^', 'k oo w aa c ii l e n^ phl ee ng^ z aa w^'}\n",
      "k oo w aa c ii l e n^ phl ee ng^ s a t ee \n",
      "\n",
      "F5731101921_0026\n",
      "phl ee ng^ phl ee ng^ n a j^ n aa t^\n",
      "{'ch a t^ d aa w^', 'l e n^ phl ee ng^ n ii s a m^'}\n",
      "r qq m^ phl ee ng^ n ii m a j^ \n",
      "\n"
     ]
    },
    {
     "name": "stderr",
     "output_type": "stream",
     "text": [
      " 38%|███▊      | 227/599 [00:53<01:28,  4.21it/s]"
     ]
    },
    {
     "name": "stdout",
     "output_type": "stream",
     "text": [
      "M5730279821_0058\n",
      "phl kh @@ phl ee ng^ f oo\n",
      "{'kh @@ phl ee ng^ f o n^', 'kh @@ phl ee ng^'}\n",
      "kh @@ phl ee ng^ f o n^ \n",
      "\n"
     ]
    },
    {
     "name": "stderr",
     "output_type": "stream",
     "text": [
      " 40%|████      | 240/599 [00:56<01:24,  4.26it/s]"
     ]
    },
    {
     "name": "stdout",
     "output_type": "stream",
     "text": [
      "F5730295821_0034\n",
      "ph qq ng^ j ii\n",
      "{'', 'ph qq m^ z ii k^'}\n",
      "ph qq m^ z ii k^ \n",
      "\n",
      "M5730282621_0043\n",
      "j vv t^ ch u ng^ phl ee\n",
      "{'', 's u m^ phl ee ng^', 'j u t^ phl ee ng^'}\n",
      "j u t^ ch uua khr aa w^ \n",
      "\n"
     ]
    },
    {
     "name": "stderr",
     "output_type": "stream",
     "text": [
      " 41%|████      | 243/599 [00:57<01:23,  4.25it/s]"
     ]
    },
    {
     "name": "stdout",
     "output_type": "stream",
     "text": [
      "M5731100221_0031\n",
      "ph qq l e n^ l i p^ ph ee ng^ t @@ z @@ n^\n",
      "{'phl ee ng^ t @@ p a j^', 'l e n^ phl ee ng^ kh @@ ng^'}\n",
      "ph qq m^ n a j^ ph e n^ l i t^ phl ee ng^ \n",
      "\n"
     ]
    },
    {
     "name": "stderr",
     "output_type": "stream",
     "text": [
      " 41%|████      | 247/599 [00:58<01:23,  4.23it/s]"
     ]
    },
    {
     "name": "stdout",
     "output_type": "stream",
     "text": [
      "F5731101921_0001\n",
      "k oo w aa c ii l vv n^ l ee ng^ ch ee ng^ khr e m^ j uu\n",
      "{'k oo w aa c ii l e n^ h aa phl ee ng^', 'k oo w aa c ii l e n^ s i p^ phl ee ng^', 'k oo w aa c ii l e n^ phl ee ng^ s a t ee', 'k oo w aa c ii l e n^ phl ee ng^', 'k oo w aa c ii l e n^ phl ee ng^ z aa w^'}\n",
      "k oo w aa c ii l e n^ phl ee ng^ \n",
      "\n"
     ]
    },
    {
     "name": "stderr",
     "output_type": "stream",
     "text": [
      " 42%|████▏     | 251/599 [00:59<01:22,  4.23it/s]"
     ]
    },
    {
     "name": "stdout",
     "output_type": "stream",
     "text": [
      "F5731101921_0041\n",
      "j u t^ n^ phl t^\n",
      "{'j u t^ k @@ n^', 'j u t^ phl ee ng^'}\n",
      "j u t^ \n",
      "\n"
     ]
    },
    {
     "name": "stderr",
     "output_type": "stream",
     "text": [
      " 43%|████▎     | 258/599 [01:00<01:20,  4.24it/s]"
     ]
    },
    {
     "name": "stdout",
     "output_type": "stream",
     "text": [
      "M5730282621_0069\n",
      "phl ee ng^ c aa k^ z a r aa r aa m^ d q r iia t^\n",
      "{'ng iia p^', 'pl iia n^'}\n",
      "l e n^ phl ee ng^ c aa k^ z a n^ b a m^ \n",
      "\n"
     ]
    },
    {
     "name": "stderr",
     "output_type": "stream",
     "text": [
      " 48%|████▊     | 286/599 [01:07<01:13,  4.25it/s]"
     ]
    },
    {
     "name": "stdout",
     "output_type": "stream",
     "text": [
      "F5731101921_0024\n",
      "ee ng^ phl ee ng^ kh @@ z a n aa\n",
      "{'phl ee ng^ t @@ p a j^', 'l e n^ phl ee ng^ k @@ n^ n aa'}\n",
      "l e n^ phl ee ng^ k @@ n^ n aa \n",
      "\n"
     ]
    },
    {
     "name": "stderr",
     "output_type": "stream",
     "text": [
      " 49%|████▉     | 294/599 [01:09<01:12,  4.23it/s]"
     ]
    },
    {
     "name": "stdout",
     "output_type": "stream",
     "text": [
      "M5731100221_0015\n",
      "kh aa z aa w^\n",
      "{'ch a t^ d aa w^', 'kh aa m^ p a j^', 'kh aa m^'}\n",
      "kh aa m^ \n",
      "\n"
     ]
    },
    {
     "name": "stderr",
     "output_type": "stream",
     "text": [
      " 50%|████▉     | 298/599 [01:10<01:11,  4.22it/s]"
     ]
    },
    {
     "name": "stdout",
     "output_type": "stream",
     "text": [
      "F5730295821_0002\n",
      "k oo w aa c ii l e n^ phl ee ng^ ch uu k aa\n",
      "{'k oo w aa c ii l e n^ phl ee ng^ s a t ee', 'k oo w aa c ii l e n^ phl ee ng^', 'k oo w aa c ii l e n^ phl ee ng^ z aa w^'}\n",
      "k oo w aa c ii l e n^ phl ee ng^ \n",
      "\n"
     ]
    },
    {
     "name": "stderr",
     "output_type": "stream",
     "text": [
      " 50%|█████     | 301/599 [01:11<01:10,  4.21it/s]"
     ]
    },
    {
     "name": "stdout",
     "output_type": "stream",
     "text": [
      "F5731101921_0051\n",
      "phl ee l p^ phl ee ng^ phl ee ng^ ch ii w a j^ l a p^ j uu t^\n",
      "{'phl ee ng^ n ii khr a j^ t x ng^', 'l e n^ phl ee ng^ n ii s a m^', 'phl ee ng^ n ii khr a j^ r @@ ng^', 'j u t^'}\n",
      "p qq t^ phl ee ng^ \n",
      "\n",
      "M5731100221_0001\n",
      "k oo w aa c ii j ii k^ l e n^ phl ee ng^ ch ee ng^ ph @@ p^ j uu\n",
      "{'l e n^ phl ee ng^ k @@ n^ n aa', 'l e n^ phl ee ng^ kh @@ ng^'}\n",
      "k oo w aa c ii l e n^ phl ee ng^ \n",
      "\n"
     ]
    },
    {
     "name": "stderr",
     "output_type": "stream",
     "text": [
      " 51%|█████▏    | 307/599 [01:13<01:09,  4.18it/s]"
     ]
    },
    {
     "name": "stdout",
     "output_type": "stream",
     "text": [
      "M5730282621_0031\n",
      "ph qq m^ n a j^ ph e n^ l i t^ phl ee ng^ k @@ n^ n @@ n^\n",
      "{'ph qq m^ n a j^ ph e n^ l i t^ phl ee ng^', 'ph qq m^ n a j^ ph e n^ l i t^ phl ee ng^ pr oo t^'}\n",
      "ph qq m^ n a j^ ph e n^ l i t^ phl ee ng^ \n",
      "\n"
     ]
    },
    {
     "name": "stderr",
     "output_type": "stream",
     "text": [
      " 52%|█████▏    | 313/599 [01:14<01:08,  4.19it/s]"
     ]
    }
   ],
   "source": [
    "%%time\n",
    "acc = 0\n",
    "amount = len(keys)\n",
    "for key in tqdm(keys[:amount]):\n",
    "    possible, min_dist = find_closest(text[key])\n",
    "    ans = list(possible)[0]\n",
    "    lab = \" \".join(label[key])\n",
    "    if(len(possible)>1):\n",
    "        print(key)\n",
    "        print(\" \".join(text[key]))\n",
    "        print(possible)\n",
    "        print(lab, '\\n')\n",
    "    if(ans == lab): acc += 1\n",
    "    \n",
    "        \n",
    "\n",
    "# print(\"acc {}\".format(acc / amount))\n",
    "acc /= amount"
   ]
  },
  {
   "cell_type": "code",
   "execution_count": 290,
   "metadata": {},
   "outputs": [
    {
     "data": {
      "text/plain": [
       "0.5659432387312187"
      ]
     },
     "execution_count": 290,
     "metadata": {},
     "output_type": "execute_result"
    }
   ],
   "source": [
    "acc"
   ]
  },
  {
   "cell_type": "code",
   "execution_count": null,
   "metadata": {},
   "outputs": [],
   "source": []
  }
 ],
 "metadata": {
  "kernelspec": {
   "display_name": "Python 3",
   "language": "python",
   "name": "python3"
  },
  "language_info": {
   "codemirror_mode": {
    "name": "ipython",
    "version": 3
   },
   "file_extension": ".py",
   "mimetype": "text/x-python",
   "name": "python",
   "nbconvert_exporter": "python",
   "pygments_lexer": "ipython3",
   "version": "3.5.2"
  },
  "notify_time": "30",
  "toc": {
   "base_numbering": 1,
   "nav_menu": {},
   "number_sections": true,
   "sideBar": true,
   "skip_h1_title": false,
   "title_cell": "Table of Contents",
   "title_sidebar": "Contents",
   "toc_cell": false,
   "toc_position": {},
   "toc_section_display": true,
   "toc_window_display": false
  },
  "varInspector": {
   "cols": {
    "lenName": 16,
    "lenType": 16,
    "lenVar": 40
   },
   "kernels_config": {
    "python": {
     "delete_cmd_postfix": "",
     "delete_cmd_prefix": "del ",
     "library": "var_list.py",
     "varRefreshCmd": "print(var_dic_list())"
    },
    "r": {
     "delete_cmd_postfix": ") ",
     "delete_cmd_prefix": "rm(",
     "library": "var_list.r",
     "varRefreshCmd": "cat(var_dic_list()) "
    }
   },
   "position": {
    "height": "500px",
    "left": "1230px",
    "right": "20px",
    "top": "121px",
    "width": "350px"
   },
   "types_to_exclude": [
    "module",
    "function",
    "builtin_function_or_method",
    "instance",
    "_Feature"
   ],
   "window_display": false
  }
 },
 "nbformat": 4,
 "nbformat_minor": 2
}
